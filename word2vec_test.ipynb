{
 "cells": [
  {
   "cell_type": "markdown",
   "metadata": {},
   "source": [
    "# 参考资料\n",
    "\n",
    "https://segmentfault.com/a/1190000008173404\n",
    "\n",
    "https://radimrehurek.com/gensim/models/word2vec.html\n",
    "\n",
    "https://www.cnblogs.com/pinard/p/7278324.html\n",
    "\n",
    "http://www.52nlp.cn/%E4%B8%AD%E8%8B%B1%E6%96%87%E7%BB%B4%E5%9F%BA%E7%99%BE%E7%A7%91%E8%AF%AD%E6%96%99%E4%B8%8A%E7%9A%84word2vec%E5%AE%9E%E9%AA%8C"
   ]
  },
  {
   "cell_type": "markdown",
   "metadata": {},
   "source": [
    "# 训练"
   ]
  },
  {
   "cell_type": "markdown",
   "metadata": {},
   "source": [
    "python train_word2vec_model.py wiki.zh.text.jian.utf-8.seg wiki.zh.text.model wiki.zh.text.vector >log.txt &"
   ]
  },
  {
   "cell_type": "markdown",
   "metadata": {},
   "source": [
    "# 预测"
   ]
  },
  {
   "cell_type": "code",
   "execution_count": 1,
   "metadata": {
    "scrolled": false
   },
   "outputs": [
    {
     "name": "stderr",
     "output_type": "stream",
     "text": [
      "d:\\python35\\lib\\site-packages\\gensim\\utils.py:1212: UserWarning: detected Windows; aliasing chunkize to chunkize_serial\n",
      "  warnings.warn(\"detected Windows; aliasing chunkize to chunkize_serial\")\n"
     ]
    }
   ],
   "source": [
    "import gensim\n",
    "model = gensim.models.Word2Vec.load(r\"D:/python35/Scripts/1 python 基础/data/shurufa_uft8_killSingleTerm.model\")"
   ]
  },
  {
   "cell_type": "code",
   "execution_count": 17,
   "metadata": {
    "scrolled": true
   },
   "outputs": [
    {
     "name": "stderr",
     "output_type": "stream",
     "text": [
      "d:\\python35\\lib\\site-packages\\ipykernel_launcher.py:1: DeprecationWarning: Call to deprecated `__getitem__` (Method will be removed in 4.0.0, use self.wv.__getitem__() instead).\n",
      "  \"\"\"Entry point for launching an IPython kernel.\n"
     ]
    },
    {
     "data": {
      "text/plain": [
       "array([ 1.42242420e+00,  5.24122655e-01,  2.22123843e-02, -2.06924886e-01,\n",
       "       -2.32952309e+00, -5.08971155e-01, -5.43821692e-01,  1.24519253e+00,\n",
       "       -6.94045961e-01,  2.26013041e+00, -8.90048683e-01,  1.63859189e+00,\n",
       "       -4.35195953e-01,  3.93085337e+00,  4.76818621e-01, -3.17490172e+00,\n",
       "       -1.48233616e+00, -1.84087598e+00, -3.29667377e+00, -6.57119215e-01,\n",
       "       -1.00840069e-01,  1.16812193e+00,  7.18939066e-01, -6.33689940e-01,\n",
       "       -1.56216598e+00, -4.69965041e-01, -8.38454664e-01,  1.04592788e+00,\n",
       "       -2.80588198e+00, -4.08748746e-01,  1.50756848e+00, -4.20845222e+00,\n",
       "       -1.87373233e+00,  2.04429936e+00,  6.25206158e-02,  1.13251436e+00,\n",
       "       -2.91471863e+00,  1.11771059e+00, -4.67408419e+00,  4.10735130e-01,\n",
       "        2.65203919e-02, -1.78095251e-01, -1.46985734e+00,  1.56480062e+00,\n",
       "       -6.92379475e-01,  5.21935523e-01, -3.18511575e-01, -1.64155793e+00,\n",
       "       -1.68103015e+00, -1.72293031e+00,  9.18167412e-01, -9.00315493e-02,\n",
       "        1.17649221e+00,  2.76051998e-01,  3.06620646e+00, -2.54830551e+00,\n",
       "        2.58379030e+00, -4.00832206e-01, -2.25695968e+00, -9.61984754e-01,\n",
       "        2.58814245e-01,  4.86586720e-01,  1.16801047e+00, -2.83949924e+00,\n",
       "       -7.46250033e-01, -1.68334693e-03, -1.77662683e+00,  1.18861496e+00,\n",
       "       -2.76922178e+00,  1.35072076e+00,  1.98435634e-01,  4.45365220e-01,\n",
       "        2.15072393e+00,  7.25842953e-01, -1.10842407e+00, -6.57787144e-01,\n",
       "        1.21801901e+00,  1.66745543e+00,  3.46966773e-01, -1.28842545e+00,\n",
       "       -1.93149126e+00, -1.38946819e+00, -1.14192164e+00, -3.42117816e-01,\n",
       "        8.57581317e-01, -8.12723875e-01, -3.36685300e-01, -1.39418197e+00,\n",
       "        1.09080791e+00,  3.09238529e+00,  1.25322834e-01,  2.07631752e-01,\n",
       "       -1.52591634e+00, -3.17163420e+00, -1.38837111e+00,  2.35449982e+00,\n",
       "       -5.25559843e-01,  2.35846686e+00,  2.73461342e+00,  1.26630113e-01,\n",
       "       -9.89108503e-01,  6.99208304e-02,  1.85478961e+00, -2.15837646e+00,\n",
       "       -1.45241725e+00,  3.64402676e+00, -5.89572251e-01,  1.11488685e-01,\n",
       "        1.18276276e-01, -3.60734200e+00,  1.80261123e+00,  8.89252961e-01,\n",
       "        1.77819169e+00, -2.02062106e+00,  2.65120935e+00,  4.69794005e-01,\n",
       "       -4.46108937e-01, -4.31252927e-01,  7.62597263e-01,  3.12912083e+00,\n",
       "       -3.02893192e-01, -7.66293228e-01, -1.31779921e+00, -2.00876608e-01,\n",
       "        1.96900153e+00,  2.36328006e+00, -6.25966370e-01, -9.56764519e-01,\n",
       "        1.20267832e+00,  7.64902011e-02,  1.04062259e+00, -1.94814229e+00,\n",
       "        3.50638598e-01,  1.09816217e+00, -4.40344483e-01,  6.91773057e-01,\n",
       "        1.42412996e+00,  2.13251799e-01,  7.93580353e-01, -9.98640895e-01,\n",
       "       -3.91152084e-01,  5.99708259e-01, -1.27978122e+00, -5.75813115e-01,\n",
       "       -7.25003898e-01,  1.39575213e-01,  1.89904249e+00,  1.13309026e+00,\n",
       "       -1.79796672e+00,  1.48202515e+00,  1.25822973e+00, -1.78030002e+00,\n",
       "       -1.17518997e+00,  1.39090681e+00,  2.01446748e+00, -3.42942548e+00,\n",
       "       -3.06463897e-01,  6.13055170e-01, -1.81144023e+00, -9.58973989e-02,\n",
       "        8.46291423e-01,  1.46970737e+00, -1.57550931e+00, -5.31342089e-01,\n",
       "        4.47048694e-01, -2.33593154e+00, -1.08356990e-01,  8.36966395e-01,\n",
       "        1.70167398e+00, -1.30893385e+00, -2.27915335e+00, -2.48345995e+00,\n",
       "        6.48524106e-01, -1.70825458e+00,  1.37630963e+00,  2.10082984e+00,\n",
       "       -6.52833521e-01,  1.38268799e-01, -9.91584122e-01, -7.83882439e-01,\n",
       "       -7.44969621e-02, -6.03046238e-01,  3.36029601e+00,  2.00283337e+00,\n",
       "       -2.09735036e-01, -7.45910168e-01, -1.72867930e+00, -1.73002765e-01,\n",
       "       -9.56005633e-01,  1.86244738e+00,  1.30265868e+00,  1.96780872e+00,\n",
       "        2.64813805e+00, -1.00745988e+00, -3.91266458e-02, -3.36133063e-01,\n",
       "        8.80636990e-01,  1.07251549e+00, -1.66544867e+00,  6.00850821e-01,\n",
       "       -1.64120793e+00, -3.56632137e+00, -3.41117120e+00,  1.54022408e+00,\n",
       "        1.93153536e+00,  1.70602453e+00,  2.13948512e+00, -2.13769579e+00,\n",
       "        1.22849129e-01,  1.08968246e+00,  1.83464730e+00,  2.58396363e+00,\n",
       "        7.76994288e-01,  9.40778673e-01,  1.17063141e+00,  1.85051799e+00,\n",
       "        8.35893154e-01,  8.50801468e-01,  1.55770922e+00, -1.77291021e-01,\n",
       "       -1.67824697e+00,  3.99246669e+00, -3.42182606e-01, -1.16825223e+00,\n",
       "       -2.12187624e+00,  5.19178569e-01, -3.50240827e-01, -2.57006454e+00,\n",
       "       -5.71487188e-01, -3.41878027e-01, -5.96063435e-01, -2.38452539e-01,\n",
       "        9.72564280e-01,  1.17111051e+00, -8.23520899e-01, -9.37979072e-02,\n",
       "       -3.05655599e-01, -1.37138414e+00, -1.54657376e+00,  6.98374987e-01,\n",
       "       -4.22064924e+00,  3.67111444e-01,  1.47741938e+00, -1.84271550e+00,\n",
       "        5.46849608e-01,  2.78955311e-01, -2.42679071e+00, -3.13783002e+00,\n",
       "        1.49933851e+00, -5.71532957e-02, -1.07625878e+00,  3.01983356e+00,\n",
       "       -1.10312366e+00, -2.73852444e+00,  2.19422507e+00, -1.21302676e+00,\n",
       "       -1.88004899e+00,  4.85239960e-02, -1.63721287e+00,  1.22685063e+00,\n",
       "        3.50741601e+00,  2.96851492e+00,  1.83315361e+00,  2.53944659e+00,\n",
       "        1.70524693e+00, -2.45054317e+00,  2.60703135e+00,  1.40496171e+00,\n",
       "       -1.52248824e+00,  1.44801766e-01, -3.05265570e+00, -1.27071166e+00,\n",
       "       -5.05719781e-01,  1.46702051e+00,  9.29933369e-01,  6.79395795e-02,\n",
       "        1.87768483e+00,  1.28198397e+00, -3.07276344e+00,  3.26765895e-01,\n",
       "        8.15616548e-01, -3.32646275e+00, -6.56106770e-02,  4.21614468e-01,\n",
       "        1.81166375e+00,  3.43819082e-01,  8.33383501e-01, -1.98944950e+00,\n",
       "       -5.06120861e-01,  1.34362924e+00, -1.15917599e+00,  4.01415491e+00,\n",
       "       -1.71372187e+00, -5.46458542e-01,  1.58670652e+00, -3.31575096e-01,\n",
       "        1.68055511e+00, -7.58583128e-01, -1.88809264e+00,  6.41472816e-01,\n",
       "        1.88556755e+00, -6.74118519e-01, -1.13446057e-01,  4.21121091e-01,\n",
       "        1.76446855e-01, -1.95212913e+00,  3.36338907e-01,  2.10865211e+00,\n",
       "        1.43265021e+00,  2.96915650e+00,  6.08885810e-02, -1.70371068e+00,\n",
       "        1.70042324e+00, -1.12344670e+00,  1.86910641e+00,  4.70658764e-02,\n",
       "       -1.15903437e+00, -7.75338352e-01,  1.36392021e+00,  1.50447547e+00,\n",
       "        1.09767854e+00, -6.37499630e-01, -3.29270315e+00, -1.28874108e-01,\n",
       "       -9.26470220e-01,  2.67044604e-01,  1.51312220e+00, -7.45779216e-01,\n",
       "       -4.46146041e-01,  7.78528273e-01, -7.94349074e-01, -1.32859814e+00,\n",
       "        2.40137672e+00,  3.25426370e-01,  1.48418736e+00,  5.39622664e-01,\n",
       "       -1.26281738e+00, -1.64687228e+00,  3.30474466e-01, -3.11599183e+00,\n",
       "       -2.02255681e-01,  1.36967719e+00, -4.11776960e-01,  2.18962264e+00,\n",
       "       -9.64358628e-01, -1.19339156e+00, -7.78711140e-01, -2.74558830e+00,\n",
       "        3.04377079e+00, -3.50547409e+00,  9.28771645e-02,  2.08254743e+00,\n",
       "       -3.87387180e+00, -3.26609325e+00,  1.53508276e-01, -6.73110485e-01,\n",
       "        1.67369679e-01, -1.16291702e+00, -6.15464747e-01, -2.38906488e-01,\n",
       "       -1.38896272e-01, -1.24749756e+00, -1.36300004e+00,  1.84101653e+00,\n",
       "        3.07355857e+00, -8.58197689e-01,  4.27040100e-01, -3.01253390e+00,\n",
       "        8.82617593e-01, -2.73245645e+00,  5.43479383e-01,  9.34152603e-01,\n",
       "       -1.97055086e-01,  5.43858469e-01, -1.69911659e+00, -4.35898244e-01,\n",
       "       -2.76047897e+00,  6.94772363e-01, -1.26505375e+00, -1.44023627e-01,\n",
       "       -1.52818418e+00, -1.12819386e+00, -8.58932585e-02,  3.91475074e-02,\n",
       "        1.07378399e+00, -6.20743454e-01,  2.58403826e+00, -1.37587786e+00,\n",
       "       -9.84140158e-01,  6.38078988e-01,  1.37621820e+00, -3.69087791e+00,\n",
       "        8.77294540e-01, -2.26094151e+00, -2.39891529e+00,  1.11890483e+00,\n",
       "        1.51873461e-03,  1.43248832e+00,  7.25888759e-02,  1.76796770e+00],\n",
       "      dtype=float32)"
      ]
     },
     "execution_count": 17,
     "metadata": {},
     "output_type": "execute_result"
    }
   ],
   "source": [
    "model[\"游泳\"]"
   ]
  },
  {
   "cell_type": "code",
   "execution_count": 2,
   "metadata": {},
   "outputs": [
    {
     "name": "stderr",
     "output_type": "stream",
     "text": [
      "d:\\python35\\lib\\site-packages\\ipykernel_launcher.py:1: DeprecationWarning: Call to deprecated `most_similar` (Method will be removed in 4.0.0, use self.wv.most_similar() instead).\n",
      "  \"\"\"Entry point for launching an IPython kernel.\n",
      "d:\\python35\\lib\\site-packages\\gensim\\matutils.py:737: FutureWarning: Conversion of the second argument of issubdtype from `int` to `np.signedinteger` is deprecated. In future, it will be treated as `np.int32 == np.dtype(int).type`.\n",
      "  if np.issubdtype(vec.dtype, np.int):\n"
     ]
    },
    {
     "data": {
      "text/plain": [
       "[('爬山', 0.6888492107391357),\n",
       " ('打球', 0.6794021725654602),\n",
       " ('钓鱼', 0.6725554466247559),\n",
       " ('学游泳', 0.6462099552154541),\n",
       " ('溜冰', 0.6433699131011963),\n",
       " ('泡温泉', 0.6408329010009766),\n",
       " ('踢球', 0.6314152479171753),\n",
       " ('打篮球', 0.6299455165863037),\n",
       " ('滑冰', 0.6179661750793457),\n",
       " ('划船', 0.6061769723892212)]"
      ]
     },
     "execution_count": 2,
     "metadata": {},
     "output_type": "execute_result"
    }
   ],
   "source": [
    "model.most_similar(\"游泳\")"
   ]
  },
  {
   "cell_type": "markdown",
   "metadata": {},
   "source": [
    "model.doesnt_match(u\"早餐 晚餐 午餐 中心\".split())"
   ]
  },
  {
   "cell_type": "markdown",
   "metadata": {},
   "source": [
    "req_count = 5\n",
    "for key in model.wv.similar_by_word(u'瑞金', topn =100):\n",
    "    if len(key[0])==3:\n",
    "        req_count -= 1\n",
    "        print(key[0], key[1])\n",
    "        if req_count == 0:\n",
    "            break;"
   ]
  },
  {
   "cell_type": "code",
   "execution_count": 19,
   "metadata": {},
   "outputs": [
    {
     "data": {
      "text/plain": [
       "0.7146278"
      ]
     },
     "execution_count": 19,
     "metadata": {},
     "output_type": "execute_result"
    }
   ],
   "source": [
    "model.wv.similarity(u'瑞金', u'马鞍山')"
   ]
  },
  {
   "cell_type": "code",
   "execution_count": 4,
   "metadata": {
    "scrolled": false
   },
   "outputs": [
    {
     "name": "stderr",
     "output_type": "stream",
     "text": [
      "d:\\python35\\lib\\site-packages\\ipykernel_launcher.py:1: DeprecationWarning: Call to deprecated `most_similar` (Method will be removed in 4.0.0, use self.wv.most_similar() instead).\n",
      "  \"\"\"Entry point for launching an IPython kernel.\n",
      "d:\\python35\\lib\\site-packages\\gensim\\matutils.py:737: FutureWarning: Conversion of the second argument of issubdtype from `int` to `np.signedinteger` is deprecated. In future, it will be treated as `np.int32 == np.dtype(int).type`.\n",
      "  if np.issubdtype(vec.dtype, np.int):\n"
     ]
    },
    {
     "data": {
      "text/plain": [
       "[('晚上', 0.5065656900405884)]"
      ]
     },
     "execution_count": 4,
     "metadata": {},
     "output_type": "execute_result"
    }
   ],
   "source": [
    "model.most_similar(positive=['游泳', '白天'], negative=['下水'], topn=1)"
   ]
  },
  {
   "cell_type": "code",
   "execution_count": 3,
   "metadata": {},
   "outputs": [
    {
     "data": {
      "text/plain": [
       "0.38650995"
      ]
     },
     "execution_count": 3,
     "metadata": {},
     "output_type": "execute_result"
    }
   ],
   "source": [
    "model.wv.similarity(u'游泳', u'下水')"
   ]
  },
  {
   "cell_type": "code",
   "execution_count": 4,
   "metadata": {
    "scrolled": false
   },
   "outputs": [
    {
     "data": {
      "text/plain": [
       "0.15213451"
      ]
     },
     "execution_count": 4,
     "metadata": {},
     "output_type": "execute_result"
    }
   ],
   "source": [
    "model.wv.similarity(u'游泳', u'水')"
   ]
  },
  {
   "cell_type": "code",
   "execution_count": 6,
   "metadata": {
    "scrolled": true
   },
   "outputs": [
    {
     "data": {
      "text/plain": [
       "0.38650995"
      ]
     },
     "execution_count": 6,
     "metadata": {},
     "output_type": "execute_result"
    }
   ],
   "source": [
    "model.wv.similarity(u'游泳', u'下水')"
   ]
  },
  {
   "cell_type": "code",
   "execution_count": 7,
   "metadata": {
    "scrolled": true
   },
   "outputs": [
    {
     "data": {
      "text/plain": [
       "0.15213451"
      ]
     },
     "execution_count": 7,
     "metadata": {},
     "output_type": "execute_result"
    }
   ],
   "source": [
    "model.wv.similarity(u'游泳', u'水')"
   ]
  },
  {
   "cell_type": "code",
   "execution_count": 8,
   "metadata": {},
   "outputs": [
    {
     "data": {
      "text/plain": [
       "0.606177"
      ]
     },
     "execution_count": 8,
     "metadata": {},
     "output_type": "execute_result"
    }
   ],
   "source": [
    "model.wv.similarity(u'游泳', u'划船')"
   ]
  },
  {
   "cell_type": "code",
   "execution_count": 9,
   "metadata": {},
   "outputs": [
    {
     "data": {
      "text/plain": [
       "0.024215315"
      ]
     },
     "execution_count": 9,
     "metadata": {},
     "output_type": "execute_result"
    }
   ],
   "source": [
    "model.wv.similarity(u'游泳', u'哈哈')"
   ]
  },
  {
   "cell_type": "code",
   "execution_count": 11,
   "metadata": {},
   "outputs": [
    {
     "data": {
      "text/plain": [
       "0.46680716"
      ]
     },
     "execution_count": 11,
     "metadata": {},
     "output_type": "execute_result"
    }
   ],
   "source": [
    "model.wv.similarity(u'游泳', u'跳水')"
   ]
  },
  {
   "cell_type": "markdown",
   "metadata": {},
   "source": [
    "model.wv.similarity(u'游泳', u'下河')"
   ]
  }
 ],
 "metadata": {
  "kernelspec": {
   "display_name": "Python 3",
   "language": "python",
   "name": "python3"
  },
  "language_info": {
   "codemirror_mode": {
    "name": "ipython",
    "version": 3
   },
   "file_extension": ".py",
   "mimetype": "text/x-python",
   "name": "python",
   "nbconvert_exporter": "python",
   "pygments_lexer": "ipython3",
   "version": "3.5.2"
  }
 },
 "nbformat": 4,
 "nbformat_minor": 2
}
